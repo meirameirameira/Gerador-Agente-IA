{
  "nbformat": 4,
  "nbformat_minor": 0,
  "metadata": {
    "colab": {
      "provenance": []
    },
    "kernelspec": {
      "name": "python3",
      "display_name": "Python 3"
    },
    "language_info": {
      "name": "python"
    }
  },
  "cells": [
    {
      "cell_type": "code",
      "source": [
        "%pip -q install google-genai"
      ],
      "metadata": {
        "id": "UCCbECexLk_h"
      },
      "execution_count": null,
      "outputs": []
    },
    {
      "cell_type": "code",
      "source": [
        "!pip install -q google-adk"
      ],
      "metadata": {
        "id": "JtRGGkI1MMCB"
      },
      "execution_count": null,
      "outputs": []
    },
    {
      "cell_type": "code",
      "source": [
        "import os\n",
        "from google.colab import userdata\n",
        "\n",
        "os.environ[\"GOOGLE_API_KEY\"] = userdata.get('GOOGLE_API_KEY')"
      ],
      "metadata": {
        "id": "NfCqHo1tLk8P"
      },
      "execution_count": null,
      "outputs": []
    },
    {
      "cell_type": "code",
      "source": [
        "from google import genai\n",
        "\n",
        "client = genai.Client()\n",
        "\n",
        "MODEL_ID = \"gemini-2.0-flash\""
      ],
      "metadata": {
        "id": "bV4w0H5TLk5g"
      },
      "execution_count": null,
      "outputs": []
    },
    {
      "cell_type": "code",
      "execution_count": null,
      "metadata": {
        "id": "aePV2bdfDeoW"
      },
      "outputs": [],
      "source": [
        "from google.adk.agents import Agent\n",
        "from google.adk.runners import Runner\n",
        "from google.adk.sessions import InMemorySessionService\n",
        "from google.adk.tools import google_search\n",
        "from google.genai import types  # Para criar conteúdos (Content e Part)\n",
        "from datetime import date\n",
        "import textwrap # Para formatar melhor a saída de texto\n",
        "from IPython.display import display, Markdown # Para exibir texto formatado no Colab\n",
        "import requests # Para fazer requisições HTTP\n",
        "import warnings\n",
        "\n",
        "warnings.filterwarnings(\"ignore\")"
      ]
    },
    {
      "cell_type": "code",
      "source": [
        "# Função auxiliar que envia uma mensagem para um agente via Runner e retorna a resposta final\n",
        "def call_agent(agent: Agent, message_text: str) -> str:\n",
        "    # Cria um serviço de sessão em memória\n",
        "    session_service = InMemorySessionService()\n",
        "    # Cria uma nova sessão (você pode personalizar os IDs conforme necessário)\n",
        "    session = session_service.create_session(app_name=agent.name, user_id=\"user1\", session_id=\"session1\")\n",
        "    # Cria um Runner para o agente\n",
        "    runner = Runner(agent=agent, app_name=agent.name, session_service=session_service)\n",
        "    # Cria o conteúdo da mensagem de entrada\n",
        "    content = types.Content(role=\"user\", parts=[types.Part(text=message_text)])\n",
        "\n",
        "    final_response = \"\"\n",
        "    # Itera assincronamente pelos eventos retornados durante a execução do agente\n",
        "    for event in runner.run(user_id=\"user1\", session_id=\"session1\", new_message=content):\n",
        "        if event.is_final_response():\n",
        "          for part in event.content.parts:\n",
        "            if part.text is not None:\n",
        "              final_response += part.text\n",
        "              final_response += \"\\n\"\n",
        "    return final_response"
      ],
      "metadata": {
        "id": "_xP4lWhsS5ko"
      },
      "execution_count": null,
      "outputs": []
    },
    {
      "cell_type": "code",
      "source": [
        "# Função auxiliar para exibir texto formatado em Markdown no Colab\n",
        "def to_markdown(text):\n",
        "  text = text.replace('•', '  *')\n",
        "  return Markdown(textwrap.indent(text, '> ', predicate=lambda _: True))"
      ],
      "metadata": {
        "id": "8dosiodaxfFR"
      },
      "execution_count": null,
      "outputs": []
    },
    {
      "cell_type": "code",
      "source": [
        "# --- Agente 1: Gerador de Agente --- #\n",
        "def agente_gerador(topico):\n",
        "    gerador = Agent(\n",
        "        name=\"agente_gerador\",\n",
        "        model=\"gemini-2.0-flash\",\n",
        "        instruction=\"\"\"\n",
        "        Você é um assistente inteligente e especialista em IA que ao buscar com a ferramenta google_search auxilía o usuário a gerar agentes de ia assim como esse que você esta sendo feito sobre o tópico de interesse.\n",
        "        Você é destinado a pessoas com pouco conhecimento em linguagens de programação, seu público tem uma faixa etária bem abrangente.\n",
        "        Não seja tão técnico e apenas escreva códigos se extremamente necessário, este passo serve apenas para dar ideias ao usuário.\n",
        "        \"\"\",\n",
        "        description=\"Agente que busca\",\n",
        "        tools=[google_search]\n",
        "    )\n",
        "\n",
        "    entrada_do_agente_gerador = f\"Vamos criar Agentes de Ia juntos sobre {topico}!\"\n",
        "    # Executa o agente\n",
        "    geracao = call_agent(gerador, entrada_do_agente_gerador)\n",
        "    return geracao"
      ],
      "metadata": {
        "id": "o8bqIfi_DyH8"
      },
      "execution_count": null,
      "outputs": []
    },
    {
      "cell_type": "code",
      "source": [
        "# --- Agente 2: Planejador de Agente --- #\n",
        "def agente_planejador(topico, geracao_buscada):\n",
        "    planejador = Agent(\n",
        "        name=\"agente_planejador\",\n",
        "        model=\"gemini-2.0-flash\",\n",
        "        # Inserir as instruções do Agente Planejador\n",
        "        instruction=\"\"\"\n",
        "        Você, por ser um especialista em ia, escolha um assunto dos tópicos buscados e o aprofunde. Mesmo com um público que pode não entender sobre linguagens de programação, em suas explicações você também deve usar python, explicando bem cada linha de código gerada para que a lógica seja facilmente entendida.\n",
        "        Você deve especificar e ensinar caso seja necessária a utilização de SDKs ou APIs.\n",
        "        Não seja tão técnico e apenas escreva códigos se extremamente necessário, este passo serve apenas para dar ideias ao usuário.\n",
        "        \"\"\",\n",
        "        description=\"Agente que planeja Agente\",\n",
        "        tools=[google_search]\n",
        "    )\n",
        "\n",
        "    entrada_do_agente_planejador = f\"Tópico:{topico}\"\n",
        "    # Executa o agente\n",
        "    plano_do_agente = call_agent(planejador, entrada_do_agente_planejador)\n",
        "    return plano_do_agente"
      ],
      "metadata": {
        "id": "y3VO1uo5_ghO"
      },
      "execution_count": null,
      "outputs": []
    },
    {
      "cell_type": "code",
      "source": [
        "# --- Agente 3: Resumo --- #\n",
        "def agente_resumo(topico, plano_do_agente):\n",
        "    resumo = Agent(\n",
        "        name=\"agente_resumo\",\n",
        "        model=\"gemini-2.0-flash\",\n",
        "        instruction=\"\"\"\n",
        "            De acordo com o que você fez planejou crie um resumo para o usuário com pontos relevantes.\n",
        "            \"\"\",\n",
        "        description=\"Agente resumo de plano de agentes\"\n",
        "    )\n",
        "    entrada_do_agente_resumo = f\"Tópico: {topico}\\nPlano de Agente: {plano_do_agente}\"\n",
        "    # Executa o agente\n",
        "    resumos = call_agent(resumo, entrada_do_agente_resumo)\n",
        "    return resumos"
      ],
      "metadata": {
        "id": "uOqlg2TRLVh1"
      },
      "execution_count": null,
      "outputs": []
    },
    {
      "cell_type": "code",
      "source": [
        "# --- Agente 4: Tutorial --- #\n",
        "def agente_tutorial(topico, resumo_gerado):\n",
        "    tutorial = Agent(\n",
        "        name=\"agente_tutorial\",\n",
        "        model=\"gemini-2.0-flash\",\n",
        "        instruction=\"\"\"\n",
        "            Agora faça um tutorial extremamente detalhado, técnico e com códigos em python para implementar os agentes gerados.\n",
        "            \"\"\",\n",
        "        description=\"Agente tutorial de post para redes sociais.\"\n",
        "    )\n",
        "    entrada_do_agente_tutorial = f\"Tópico: {topico}\\nRascunho: {resumos}\"\n",
        "    # Executa o agente\n",
        "    texto_tutorial = call_agent(tutorial, entrada_do_agente_tutorial)\n",
        "    return texto_tutorial"
      ],
      "metadata": {
        "id": "_aTb1SdkLeT6"
      },
      "execution_count": null,
      "outputs": []
    },
    {
      "cell_type": "code",
      "source": [
        "# --- Obter o Tópico do Usuário ---\n",
        "topico = input(\"\\n❓ Por favor, digite o TÓPICO sobre o qual você quer gerar seus agentes: \")\n",
        "\n",
        "# Inserir lógica do sistema de agentes\n",
        "\n",
        "if not topico:\n",
        "    print(\"\\nPor favor, insira um tópico válido.\")\n",
        "\n",
        "else:\n",
        "    print(f\"\\nVamos criar Agentes de IA juntos sobre {topico}!\")\n",
        "\n",
        "    geracao_buscada = agente_gerador(topico)\n",
        "    print(\"\\n -- Resultados do Agente Gerador --\")\n",
        "    display(to_markdown(geracao_buscada))\n",
        "    print(\"\\n==================================================================================\")\n",
        "\n",
        "    plano_do_agente = agente_planejador(topico, geracao_buscada)\n",
        "    print(\"\\n -- Resultados do Agente Planejador --\")\n",
        "    display(to_markdown(plano_do_agente))\n",
        "    print(\"\\n==================================================================================\")\n",
        "\n",
        "    resumos = agente_resumo(topico, plano_do_agente)\n",
        "    print(\"\\n -- Resultados do Agente Resumo --\")\n",
        "    display(to_markdown(resumos))\n",
        "    print(\"\\n==================================================================================\")\n",
        "\n",
        "    texto_tutorial = agente_tutorial(topico, resumos)\n",
        "    print(\"\\n -- Resultados do Agente Tutorial --\")\n",
        "    display(to_markdown(texto_tutorial))\n",
        "    print(\"\\n==================================================================================\"\n",
        "    )"
      ],
      "metadata": {
        "id": "630ummxz4myx",
        "collapsed": true
      },
      "execution_count": null,
      "outputs": []
    }
  ]
}